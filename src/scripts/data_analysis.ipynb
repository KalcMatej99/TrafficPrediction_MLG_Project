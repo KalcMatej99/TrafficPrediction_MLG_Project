{
 "cells": [
  {
   "cell_type": "markdown",
   "id": "5ab8ca08-6aa0-4bb0-8645-38855d277ba7",
   "metadata": {},
   "source": [
    "# Data analysis"
   ]
  },
  {
   "cell_type": "code",
   "execution_count": 1,
   "id": "11cab398-0143-40fb-aba7-b55f3b7387af",
   "metadata": {
    "tags": []
   },
   "outputs": [],
   "source": [
    "# standard data science tools\n",
    "import pandas as pd\n",
    "import numpy as np\n",
    "\n",
    "# graph standard libraries\n",
    "import networkx as nx\n",
    "\n",
    "# quick and dirty ploting\n",
    "import matplotlib.pyplot as plt"
   ]
  },
  {
   "cell_type": "code",
   "execution_count": 2,
   "id": "f8c38f7d-1ba3-458f-885f-efdfb911b535",
   "metadata": {
    "tags": []
   },
   "outputs": [
    {
     "data": {
      "text/plain": [
       "array([[0., 0., 0., ..., 0., 0., 0.],\n",
       "       [0., 0., 0., ..., 0., 0., 0.],\n",
       "       [0., 0., 0., ..., 0., 0., 0.],\n",
       "       ...,\n",
       "       [0., 0., 0., ..., 0., 1., 0.],\n",
       "       [0., 0., 0., ..., 1., 0., 1.],\n",
       "       [0., 0., 0., ..., 0., 1., 0.]])"
      ]
     },
     "metadata": {},
     "output_type": "display_data"
    }
   ],
   "source": [
    "# adjecency matrix\n",
    "A = pd.read_csv(\"./data/counters_adjacency_mtx.csv\").drop(\"Unnamed: 0\", axis = 1).to_numpy()\n",
    "\n",
    "# prob. don't need to differentiate between predecessors/successor thats just a DAG\n",
    "A[A == 2] = 1\n",
    "\n",
    "display(A)\n",
    "\n",
    "# node features\n",
    "# TODO: read node features"
   ]
  },
  {
   "cell_type": "markdown",
   "id": "f4266d28-5cc6-42a9-966a-de132354da4e",
   "metadata": {
    "tags": []
   },
   "source": [
    "# Graph statistics"
   ]
  },
  {
   "cell_type": "code",
   "execution_count": 3,
   "id": "6d377da0-2e9f-47a2-b3a4-cd989d0b536b",
   "metadata": {
    "tags": []
   },
   "outputs": [
    {
     "name": "stdout",
     "output_type": "stream",
     "text": [
      "n = 463\n",
      "unconnected nodes: 12\n",
      "Components = [438, 1, 1, 1, 1, 1, 1, 1, 1, 1, 1, 1, 1, 1, 1, 1, 1, 1, 1, 1, 1, 1, 1, 1, 1, 1]\n",
      "dmax = 41\n"
     ]
    },
    {
     "data": {
      "text/plain": [
       "'\\nNevermind, we definitely wont have 41 layers :/\\n'"
      ]
     },
     "execution_count": 3,
     "metadata": {},
     "output_type": "execute_result"
    },
    {
     "data": {
      "image/png": "[encoded data removed]",
      "text/plain": [
       "<Figure size 640x480 with 1 Axes>"
      ]
     },
     "metadata": {},
     "output_type": "display_data"
    }
   ],
   "source": [
    "# initialize graph\n",
    "G = nx.DiGraph(A)\n",
    "\n",
    "## simple calculations (wont take to long)\n",
    "\n",
    "# number of nodes\n",
    "n = len(G)\n",
    "print(f'n = {n}')\n",
    "\n",
    "# degree distribution\n",
    "dist = nx.degree_histogram(G)\n",
    "print(f'unconnected nodes: {dist[0]}')\n",
    "\n",
    "plt.bar(np.arange(len(dist)), dist)\n",
    "\n",
    "'''\n",
    "Nule pomenijo da node-i nimajo povezav (no reason to do a GNN but we can maybe use them anyway just the GNN part won't\n",
    "do anything). \n",
    "Cudno je da so povezave v adjecency, kjer imamo > 2 povezave, tole verjetno samo ne razumem.\n",
    "Hmm, une s 4-imi povezavami so najbolj pogosto, mogoce je to zarad tega ker imamo dva merilca. In potem dva nazaj dva\n",
    "naprej in 8 jih je ce imas prikljucke/izkljucke in uni kjer je vec so tisti, kjer je vec prikljuckov izkljuckov.\n",
    "'''\n",
    "\n",
    "# graph sparesely connected\n",
    "dens = nx.density(G)\n",
    "\n",
    "# DAG - but adjecency mtx is symmetrix\n",
    "is_not_symmetric = nx.is_directed(G)\n",
    "\n",
    "# not all nodes strongly connected, i.e. we end up in a certain graph part we can't get any info out (not sure if this is a problem for GNN)\n",
    "strongs = sorted(nx.strongly_connected_components(G), key=len, reverse=True)\n",
    "strongs_len = [len(g) for g in strongs]\n",
    "print(f'Components = {strongs_len}')\n",
    "\n",
    "'''\n",
    "Clearly not that big of a problem (26 unconnected nodes) we either remove or somehow make connected -\n",
    "maybe doesnt even matter for GNN (12 of them are weird + 14 might be prikljucki/izhodi iz AC/HC)\n",
    "'''\n",
    "\n",
    "# take largest strongly connected subgraph\n",
    "G0 = G.subgraph(strongs[0])\n",
    "\n",
    "# diameter - useful for deciding how many layers we want (diameter = n-layers)\n",
    "d = nx.approximation.diameter(G0)\n",
    "print(f'dmax = {d}')\n",
    "\n",
    "'''\n",
    "Nevermind, we definitely wont have 41 layers :/\n",
    "'''\n",
    "\n",
    "## complex calculation that take long (split so you don't have to run everything)"
   ]
  },
  {
   "cell_type": "markdown",
   "id": "d7adf0cb-fd26-481c-a61d-cfed64566a5b",
   "metadata": {},
   "source": [
    "Apparently DAG not strongly connected."
   ]
  },
  {
   "cell_type": "code",
   "execution_count": 5,
   "id": "a2605072-e3da-416f-9d6a-2dac4ac1c79e",
   "metadata": {
    "tags": []
   },
   "outputs": [
    {
     "data": {
      "text/plain": [
       "array([ 0.,  0.,  0.,  0.,  0.,  0.,  0.,  0.,  0.,  0.,  0.,  0.,  0.,\n",
       "        0.,  0.,  1.,  1.,  1.,  1.,  1.,  1.,  1.,  1.,  1.,  1.,  2.,\n",
       "        2.,  2.,  2.,  2.,  2.,  2.,  2.,  2.,  2.,  2.,  2.,  2.,  2.,\n",
       "        2.,  2.,  2.,  2.,  2.,  2.,  2.,  2.,  2.,  2.,  2.,  2.,  2.,\n",
       "        2.,  2.,  2.,  2.,  3.,  3.,  3.,  3.,  3.,  3.,  3.,  3.,  3.,\n",
       "        3.,  3.,  3.,  3.,  3.,  3.,  3.,  3.,  3.,  3.,  3.,  3.,  3.,\n",
       "        3.,  3.,  3.,  3.,  3.,  3.,  3.,  3.,  3.,  3.,  3.,  3.,  3.,\n",
       "        3.,  3.,  3.,  3.,  3.,  3.,  3.,  3.,  3.,  3.,  3.,  3.,  3.,\n",
       "        3.,  3.,  3.,  3.,  3.,  3.,  3.,  3.,  3.,  3.,  4.,  4.,  4.,\n",
       "        4.,  4.,  4.,  4.,  4.,  4.,  4.,  4.,  4.,  4.,  4.,  4.,  4.,\n",
       "        4.,  4.,  4.,  4.,  4.,  4.,  4.,  4.,  4.,  4.,  4.,  4.,  4.,\n",
       "        4.,  4.,  4.,  4.,  4.,  4.,  4.,  4.,  4.,  4.,  4.,  4.,  4.,\n",
       "        4.,  4.,  4.,  4.,  4.,  4.,  4.,  4.,  4.,  4.,  4.,  4.,  4.,\n",
       "        4.,  4.,  4.,  4.,  4.,  4.,  4.,  4.,  4.,  4.,  4.,  4.,  4.,\n",
       "        4.,  4.,  4.,  4.,  4.,  4.,  4.,  4.,  4.,  4.,  4.,  4.,  4.,\n",
       "        4.,  4.,  4.,  4.,  4.,  4.,  4.,  4.,  4.,  4.,  4.,  4.,  4.,\n",
       "        4.,  4.,  4.,  4.,  4.,  4.,  4.,  4.,  4.,  4.,  4.,  4.,  4.,\n",
       "        4.,  4.,  4.,  4.,  4.,  4.,  4.,  4.,  4.,  4.,  4.,  4.,  4.,\n",
       "        4.,  4.,  4.,  4.,  4.,  4.,  4.,  4.,  4.,  4.,  4.,  4.,  4.,\n",
       "        4.,  4.,  4.,  4.,  4.,  4.,  4.,  4.,  4.,  4.,  4.,  4.,  4.,\n",
       "        4.,  4.,  5.,  5.,  5.,  5.,  5.,  5.,  5.,  5.,  5.,  5.,  5.,\n",
       "        5.,  5.,  5.,  5.,  5.,  5.,  5.,  5.,  5.,  5.,  5.,  5.,  5.,\n",
       "        5.,  5.,  5.,  5.,  5.,  5.,  5.,  5.,  5.,  5.,  5.,  5.,  5.,\n",
       "        5.,  5.,  5.,  5.,  5.,  5.,  5.,  5.,  5.,  5.,  5.,  5.,  5.,\n",
       "        5.,  6.,  6.,  6.,  6.,  6.,  6.,  6.,  6.,  6.,  6.,  6.,  6.,\n",
       "        6.,  6.,  6.,  6.,  6.,  6.,  6.,  6.,  6.,  6.,  6.,  6.,  6.,\n",
       "        6.,  6.,  6.,  6.,  6.,  6.,  6.,  6.,  6.,  6.,  6.,  6.,  6.,\n",
       "        6.,  6.,  6.,  6.,  6.,  6.,  6.,  6.,  6.,  6.,  6.,  6.,  6.,\n",
       "        6.,  6.,  6.,  6.,  6.,  6.,  6.,  6.,  6.,  6.,  6.,  7.,  7.,\n",
       "        7.,  7.,  7.,  7.,  7.,  7.,  7.,  7.,  7.,  7.,  7.,  7.,  7.,\n",
       "        7.,  7.,  7.,  7.,  7.,  7.,  7.,  7.,  7.,  7.,  7.,  7.,  7.,\n",
       "        7.,  7.,  7.,  7.,  7.,  7.,  7.,  7.,  7.,  7.,  8.,  8.,  8.,\n",
       "        8.,  8.,  8.,  8.,  8.,  8.,  8.,  8.,  8.,  9.,  9.,  9.,  9.,\n",
       "        9.,  9.,  9.,  9.,  9.,  9.,  9.,  9.,  9.,  9.,  9.,  9.,  9.,\n",
       "       10., 10., 10., 10., 10., 10., 10., 10., 11., 11., 11., 11., 11.,\n",
       "       11., 11., 11., 12., 12., 12., 13., 13.])"
      ]
     },
     "execution_count": 5,
     "metadata": {},
     "output_type": "execute_result"
    }
   ],
   "source": [
    "np.sort(np.sum(A, axis = 1))"
   ]
  },
  {
   "cell_type": "code",
   "execution_count": null,
   "id": "07b8d7a5-05ce-4d95-9226-7dbca0c80c83",
   "metadata": {},
   "outputs": [],
   "source": [
    "np.sort(np.sum(A, axis = 0))"
   ]
  },
  {
   "cell_type": "code",
   "execution_count": null,
   "id": "bcd8f0d7-6e38-46c4-b4a0-ba90801cf94f",
   "metadata": {},
   "outputs": [],
   "source": []
  }
 ],
 "metadata": {
  "kernelspec": {
   "display_name": "MLG",
   "language": "python",
   "name": "mlg"
  },
  "language_info": {
   "codemirror_mode": {
    "name": "ipython",
    "version": 3
   },
   "file_extension": ".py",
   "mimetype": "text/x-python",
   "name": "python",
   "nbconvert_exporter": "python",
   "pygments_lexer": "ipython3",
   "version": "3.11.0"
  }
 },
 "nbformat": 4,
 "nbformat_minor": 5
}
