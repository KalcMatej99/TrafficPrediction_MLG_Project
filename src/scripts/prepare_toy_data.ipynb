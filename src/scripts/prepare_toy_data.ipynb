{
 "cells": [
  {
   "cell_type": "code",
   "execution_count": 21,
   "metadata": {},
   "outputs": [],
   "source": [
    "import pandas as pd\n",
    "import numpy as np\n",
    "import glob\n",
    "import os"
   ]
  },
  {
   "cell_type": "code",
   "execution_count": 26,
   "metadata": {},
   "outputs": [],
   "source": [
    "original_counters = '../data/counters_interpolated_gaps/'\n",
    "original_counters_nontemporal_aggregated = '../data/counters_non_temporal_aggregated_data.csv'\n",
    "\n",
    "toy_counters = '../data/toy_counters/'\n",
    "toy_counters_nontemporal_aggregated = '../data/toy_counters_non_temporal_aggregated_data.csv'\n",
    "\n",
    "if not os.path.exists(toy_counters):\n",
    "    os.mkdir(toy_counters)\n",
    "\n",
    "columns_to_retain = [\"Unnamed: 0\",\"index\",\"Date\",\"Sum\",\"Fast\"]"
   ]
  },
  {
   "cell_type": "code",
   "execution_count": 25,
   "metadata": {},
   "outputs": [],
   "source": [
    "for fname in glob.glob(original_counters + \"*.csv\"):\n",
    "    file_name = fname.split(\"/\")[-1]\n",
    "    counter_data = pd.read_csv(fname)[columns_to_retain]\n",
    "    noise = np.random.normal(0, 100, size = len(counter_data.index))\n",
    "    counter_data[\"Sum\"] += noise\n",
    "    counter_data[\"Sum\"] = np.ceil(np.abs(counter_data[\"Sum\"]))\n",
    "    noise = np.random.normal(0, 100, size = len(counter_data.index))\n",
    "    counter_data[\"Fast\"] += noise\n",
    "    counter_data[\"Fast\"] = np.ceil(np.abs(counter_data[\"Fast\"]))\n",
    "\n",
    "    counter_data.to_csv(f\"{toy_counters}{file_name}\", index=False)"
   ]
  },
  {
   "cell_type": "code",
   "execution_count": 31,
   "metadata": {},
   "outputs": [],
   "source": [
    "columns_to_retain = [\"id\", \"successors\"]\n",
    "df_counters = pd.read_csv(original_counters_nontemporal_aggregated)[columns_to_retain]\n",
    "df_counters.to_csv(toy_counters_nontemporal_aggregated, index=False)\n"
   ]
  }
 ],
 "metadata": {
  "kernelspec": {
   "display_name": "trafficPrediction39MLG",
   "language": "python",
   "name": "python3"
  },
  "language_info": {
   "codemirror_mode": {
    "name": "ipython",
    "version": 3
   },
   "file_extension": ".py",
   "mimetype": "text/x-python",
   "name": "python",
   "nbconvert_exporter": "python",
   "pygments_lexer": "ipython3",
   "version": "3.9.16"
  },
  "orig_nbformat": 4,
  "vscode": {
   "interpreter": {
    "hash": "adf2a579d8120a92e1286b98590b288d376803eb678f940738ffad32bae242ec"
   }
  }
 },
 "nbformat": 4,
 "nbformat_minor": 2
}
