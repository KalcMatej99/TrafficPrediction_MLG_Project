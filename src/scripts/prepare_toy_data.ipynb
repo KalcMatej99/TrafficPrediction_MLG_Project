{
 "cells": [
  {
   "cell_type": "code",
   "execution_count": 21,
   "metadata": {},
   "outputs": [],
   "source": [
    "import pandas as pd\n",
    "import numpy as np\n",
    "import glob\n",
    "import os"
   ]
  },
  {
   "cell_type": "code",
   "execution_count": 26,
   "metadata": {},
   "outputs": [],
   "source": [
    "original_counters = '../data/counters_interpolated_gaps/'\n",
    "original_counters_nontemporal_aggregated = '../data/counters_non_temporal_aggregated_data.csv'\n",
    "\n",
    "toy_counters = '../data/toy_counters/'\n",
    "toy_counters_nontemporal_aggregated = '../data/toy_counters_non_temporal_aggregated_data.csv'\n",
    "\n",
    "if not os.path.exists(toy_counters):\n",
    "    os.mkdir(toy_counters)\n",
    "\n",
    "columns_to_retain = [\"Unnamed: 0\",\"index\",\"Date\",\"Sum\",\"Fast\"]"
   ]
  },
  {
   "cell_type": "code",
   "execution_count": 25,
   "metadata": {},
   "outputs": [],
   "source": [
    "for fname in glob.glob(original_counters + \"*.csv\"):\n",
    "    file_name = fname.split(\"/\")[-1]\n",
    "    counter_data = pd.read_csv(fname)[columns_to_retain]\n",
    "    noise = np.random.normal(0, 100, size = len(counter_data.index))\n",
    "    counter_data[\"Sum\"] += noise\n",
    "    counter_data[\"Sum\"] = np.ceil(np.abs(counter_data[\"Sum\"]))\n",
    "    noise = np.random.normal(0, 100, size = len(counter_data.index))\n",
    "    counter_data[\"Fast\"] += noise\n",
    "    counter_data[\"Fast\"] = np.ceil(np.abs(counter_data[\"Fast\"]))\n",
    "\n",
    "    counter_data.to_csv(f\"{toy_counters}{file_name}\", index=False)"
   ]
  },
  {
   "cell_type": "code",
   "execution_count": 31,
   "metadata": {},
   "outputs": [],
   "source": [
    "columns_to_retain = [\"id\", \"successors\"]\n",
    "df_counters = pd.read_csv(original_counters_nontemporal_aggregated)[columns_to_retain]\n",
    "df_counters.to_csv(toy_counters_nontemporal_aggregated, index=False)\n"
   ]
  },
  {
   "cell_type": "code",
   "execution_count": 30,
   "metadata": {},
   "outputs": [
    {
     "data": {
      "text/html": [
       "<div>\n",
       "<style scoped>\n",
       "    .dataframe tbody tr th:only-of-type {\n",
       "        vertical-align: middle;\n",
       "    }\n",
       "\n",
       "    .dataframe tbody tr th {\n",
       "        vertical-align: top;\n",
       "    }\n",
       "\n",
       "    .dataframe thead th {\n",
       "        text-align: right;\n",
       "    }\n",
       "</style>\n",
       "<table border=\"1\" class=\"dataframe\">\n",
       "  <thead>\n",
       "    <tr style=\"text-align: right;\">\n",
       "      <th></th>\n",
       "      <th>id</th>\n",
       "      <th>successors</th>\n",
       "    </tr>\n",
       "  </thead>\n",
       "  <tbody>\n",
       "    <tr>\n",
       "      <th>0</th>\n",
       "      <td>0011-1</td>\n",
       "      <td>0860-1,0803-1</td>\n",
       "    </tr>\n",
       "    <tr>\n",
       "      <th>1</th>\n",
       "      <td>0174-2</td>\n",
       "      <td>1010-2,1011-1</td>\n",
       "    </tr>\n",
       "    <tr>\n",
       "      <th>2</th>\n",
       "      <td>0178-1</td>\n",
       "      <td>1019-2,1049-2,1017-2,1018-1</td>\n",
       "    </tr>\n",
       "    <tr>\n",
       "      <th>3</th>\n",
       "      <td>0178-2</td>\n",
       "      <td>1017-1</td>\n",
       "    </tr>\n",
       "    <tr>\n",
       "      <th>4</th>\n",
       "      <td>0179-2</td>\n",
       "      <td>0174-2</td>\n",
       "    </tr>\n",
       "    <tr>\n",
       "      <th>...</th>\n",
       "      <td>...</td>\n",
       "      <td>...</td>\n",
       "    </tr>\n",
       "    <tr>\n",
       "      <th>160</th>\n",
       "      <td>1052-2</td>\n",
       "      <td>1053-2</td>\n",
       "    </tr>\n",
       "    <tr>\n",
       "      <th>161</th>\n",
       "      <td>1053-1</td>\n",
       "      <td>1052-1</td>\n",
       "    </tr>\n",
       "    <tr>\n",
       "      <th>162</th>\n",
       "      <td>1053-2</td>\n",
       "      <td>1054-2</td>\n",
       "    </tr>\n",
       "    <tr>\n",
       "      <th>163</th>\n",
       "      <td>1054-2</td>\n",
       "      <td>0881-2,0841-2</td>\n",
       "    </tr>\n",
       "    <tr>\n",
       "      <th>164</th>\n",
       "      <td>1055-1</td>\n",
       "      <td>0887-2,0841-1</td>\n",
       "    </tr>\n",
       "  </tbody>\n",
       "</table>\n",
       "<p>165 rows × 2 columns</p>\n",
       "</div>"
      ],
      "text/plain": [
       "         id                   successors\n",
       "0    0011-1                0860-1,0803-1\n",
       "1    0174-2                1010-2,1011-1\n",
       "2    0178-1  1019-2,1049-2,1017-2,1018-1\n",
       "3    0178-2                       1017-1\n",
       "4    0179-2                       0174-2\n",
       "..      ...                          ...\n",
       "160  1052-2                       1053-2\n",
       "161  1053-1                       1052-1\n",
       "162  1053-2                       1054-2\n",
       "163  1054-2                0881-2,0841-2\n",
       "164  1055-1                0887-2,0841-1\n",
       "\n",
       "[165 rows x 2 columns]"
      ]
     },
     "execution_count": 30,
     "metadata": {},
     "output_type": "execute_result"
    }
   ],
   "source": [
    "df_counters"
   ]
  }
 ],
 "metadata": {
  "kernelspec": {
   "display_name": "trafficPredictionMLG",
   "language": "python",
   "name": "python3"
  },
  "language_info": {
   "codemirror_mode": {
    "name": "ipython",
    "version": 3
   },
   "file_extension": ".py",
   "mimetype": "text/x-python",
   "name": "python",
   "nbconvert_exporter": "python",
   "pygments_lexer": "ipython3",
   "version": "3.10.10"
  },
  "orig_nbformat": 4,
  "vscode": {
   "interpreter": {
    "hash": "c76cb6f348a3a61e9aa3816185ddfda9214895742ff1b93d93cc4d5b7a148520"
   }
  }
 },
 "nbformat": 4,
 "nbformat_minor": 2
}
