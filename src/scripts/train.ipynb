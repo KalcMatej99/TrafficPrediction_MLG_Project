{
  "cells": [
    {
      "cell_type": "markdown",
      "metadata": {
        "id": "5imzg7fEJeLM"
      },
      "source": [
        "# Traffic prediction modeling with GNN"
      ]
    },
    {
      "cell_type": "code",
      "execution_count": null,
      "metadata": {
        "colab": {
          "base_uri": "https://localhost:8080/"
        },
        "id": "3urCm8nvnFrY",
        "outputId": "f48826d4-8756-4e8d-bf7f-5f4c4ae1146b"
      },
      "outputs": [],
      "source": [
        "# Only colab stuff\n",
        "try:\n",
        "  from google.colab import drive\n",
        "  drive.mount('/content/gdrive')\n",
        "  import torch\n",
        "  import os\n",
        "  print(\"PyTorch has version {}\".format(torch.__version__))\n",
        "  if 'IS_GRADESCOPE_ENV' not in os.environ:\n",
        "    !pip install torch-scatter -f https://pytorch-geometric.com/whl/torch-1.13.1+cu116.html\n",
        "    !pip install torch-sparse -f https://pytorch-geometric.com/whl/torch-1.13.1+cu116.html\n",
        "    !pip install torch-geometric\n",
        "    !pip install ogb\n",
        "\n",
        "    os.chdir(\"./gdrive/MyDrive/MLG_cloned_repo/src/scripts\")\n",
        "except:\n",
        "  print(\"Not in colab!\")\n",
        "  os.chdir(\"./src/scripts\") \n"
      ]
    },
    {
      "cell_type": "markdown",
      "metadata": {
        "id": "c8EIVXxkJeLQ"
      },
      "source": [
        "### Load libraries"
      ]
    },
    {
      "cell_type": "code",
      "execution_count": null,
      "metadata": {
        "colab": {
          "base_uri": "https://localhost:8080/"
        },
        "id": "DE_usvT1JeLR",
        "outputId": "1834e75b-5bb7-4946-d73e-e1686375db3a"
      },
      "outputs": [
        {
          "name": "stdout",
          "output_type": "stream",
          "text": [
            "1.13.1+cu116\n",
            "Using cuda\n"
          ]
        }
      ],
      "source": [
        "import json\n",
        "import logging\n",
        "import numpy as np\n",
        "import os\n",
        "from tqdm import tqdm\n",
        "import time\n",
        "import matplotlib.pyplot as plt\n",
        "\n",
        "#Custom scripts\n",
        "import modeling_utils as modeling_utils \n",
        "import data_preparation as data_preparation\n",
        "\n",
        "#Pytorch and PyG\n",
        "import torch\n",
        "import torch.optim as optim\n",
        "from torch_geometric.data import Data\n",
        "from torch_geometric.loader import DataLoader\n",
        "import torch\n",
        "import torch.nn.functional as F\n",
        "from torch.optim.lr_scheduler import StepLR \n",
        "from torch_geometric.nn import GATConv, GCNConv\n",
        "from torch.utils.tensorboard import SummaryWriter\n",
        "\n",
        "print(torch.__version__)\n",
        "device = 'cuda' if torch.cuda.is_available() else 'cpu'\n",
        "print(f\"Using {device}\")\n",
        "\n",
        "#Lets start at src location\n",
        "if os.path.exists(\"./src\"):\n",
        "  os.chdir(\"./src\")\n",
        "elif 'scripts' in os.getcwd():\n",
        "  os.chdir(\"../\")"
      ]
    },
    {
      "cell_type": "code",
      "execution_count": null,
      "metadata": {
        "id": "E29uodRcJeLU",
        "outputId": "e2ef3e6e-21b3-4aeb-aa6d-c8e101223284"
      },
      "outputs": [
        {
          "name": "stdout",
          "output_type": "stream",
          "text": [
            "c:\\Users\\markoi\\Desktop\\TrafficPrediction_MLG_Project\\src\n"
          ]
        }
      ],
      "source": [
        "#%cd .."
      ]
    },
    {
      "cell_type": "markdown",
      "metadata": {
        "id": "PugM8CEeJeLV"
      },
      "source": [
        "### Constants and setting-up"
      ]
    },
    {
      "cell_type": "code",
      "execution_count": null,
      "metadata": {
        "id": "W8Wtx_uTJeLW"
      },
      "outputs": [],
      "source": [
        "# Constant config to use throughout\n",
        "config = {\n",
        "    'TRAIN_TEST_PROPORTION'             : (0.6, 0.1, 0.3),\n",
        "    'BATCH_SIZE'                        : 64,\n",
        "    'EPOCHS'                            : 100,\n",
        "    'WEIGHT_DECAY'                      : 5e-5,\n",
        "    'INITIAL_LR'                        : 1e-1,\n",
        "    'DROPOUT'                           : 0.2,\n",
        "    'ATTENTION_HEADS'                   : 8,\n",
        "    'RESULTS_DIR'                       : './runs/'+time.strftime(\"%m-%dT%H-%M-%S\")+'/',\n",
        "    'counter_files_path'                : '../data/counters_temporal_data_2023-03-03T09-24-06/',\n",
        "    'counters_nontemporal_aggregated'   : '../data/counters_non_temporal_aggregated_data.csv',\n",
        "    'holidays_path'                     : '../data/holidays.csv',\n",
        "    'USE_HOLIDAY_FEATURES'              : True,\n",
        "    'USE_WEEKDAY_FEATURES'              : True,\n",
        "    'N_GRAPHS'                          : 10*24,\n",
        "    'F_IN'                              : 7*24,\n",
        "    'F_OUT'                             : 7*24,\n",
        "    'N_NODE'                            : 165,\n",
        "    'target_col'                        : 'Sum',\n",
        "    'use_tensorboard'                   : False,\n",
        "    'USE_GAT'                           : True, # if True use GAT, else use GCN\n",
        "    'USE_LSTM'                          : True, # if True use LSTM, else use GRU\n",
        "    'LSTM_LAYER_SIZES'                  : [128, 32],  \n",
        "    'GRU_LAYER_SIZES'                   : [128, 32],    \n",
        "}\n",
        "\n",
        "# Set logging level\n",
        "logging.getLogger().setLevel(logging.INFO)\n",
        "\n",
        "# Make a tensorboard writer\n",
        "if config[\"use_tensorboard\"]:\n",
        "    writer = SummaryWriter()"
      ]
    },
    {
      "cell_type": "markdown",
      "metadata": {
        "id": "CTedXzi9JeLY"
      },
      "source": [
        "### Model"
      ]
    },
    {
      "cell_type": "code",
      "execution_count": null,
      "metadata": {
        "id": "NJ69dl_7JeLZ"
      },
      "outputs": [],
      "source": [
        "class ST_GNN(torch.nn.Module):\n",
        "    \"\"\"\n",
        "    Spatio-Temporal Graph Neural Network which has options of using:\n",
        "    1) Normal neighbor aggregation OR attention mechanism\n",
        "    2) GRU temporal layer or LSTM\n",
        "    \"\"\" \n",
        "    def __init__(self, in_channels, out_channels, n_nodes, heads=None, dropout=0.0):\n",
        "        \"\"\"\n",
        "        Initialize the ST-GNN model\n",
        "        :param in_channels Number of input channels\n",
        "        :param out_channels Number of output channels\n",
        "        :param n_nodes Number of nodes in the graph\n",
        "        :param heads Number of attention heads to use in graph\n",
        "        :param dropout Dropout probability on output of Graph Attention Network\n",
        "        \"\"\"\n",
        "        # Set up params\n",
        "        super(ST_GNN, self).__init__()\n",
        "        self.n_pred = out_channels\n",
        "        self.dropout = dropout\n",
        "        self.n_nodes = n_nodes\n",
        "        #self.n_preds = 9 TODO is this needed?\n",
        "        \n",
        "        # Init spatial part\n",
        "        if config['USE_GAT']:\n",
        "            self.heads = heads\n",
        "            self.gat = GATConv(in_channels=in_channels, out_channels=in_channels,\n",
        "                    heads=heads, dropout=0, concat=False)\n",
        "        else:\n",
        "            self.gcn = GCNConv(in_channels=in_channels, out_channels=in_channels, dropout=0, concat=False)\n",
        "\n",
        "        # Init temporal part\n",
        "        if config['USE_LSTM']:\n",
        "            self.lstms = []\n",
        "            for layer_index, layer_size in enumerate(config[\"LSTM_LAYER_SIZES\"]):\n",
        "                if layer_index == 0: input_size = self.n_nodes\n",
        "                else: input_size = config[\"LSTM_LAYER_SIZES\"][layer_index - 1]\n",
        "\n",
        "                lstm = torch.nn.LSTM(input_size=input_size, hidden_size=layer_size, num_layers=1)\n",
        "                for name, param in lstm.named_parameters():\n",
        "                    if 'bias' in name:\n",
        "                        torch.nn.init.constant_(param, 0.0)\n",
        "                    elif 'weight' in name:\n",
        "                        torch.nn.init.xavier_uniform_(param)\n",
        "                self.lstms.append(lstm)\n",
        "\n",
        "            # fully-connected neural network\n",
        "            self.linear = torch.nn.Linear(config[\"LSTM_LAYER_SIZES\"][-1], self.n_nodes*self.n_pred)\n",
        "        else:\n",
        "            self.grus = []\n",
        "            for layer_index, layer_size in enumerate(config[\"GRU_LAYER_SIZES\"]):\n",
        "                if layer_index == 0: input_size = self.n_nodes\n",
        "                else: input_size = config[\"GRU_LAYER_SIZES\"][layer_index - 1]\n",
        "\n",
        "                lstm = torch.nn.GRU(input_size=input_size, hidden_size=layer_size, num_layers=1)\n",
        "                self.grus.append(lstm)\n",
        "\n",
        "            # fully-connected neural network\n",
        "            self.linear = torch.nn.Linear(config[\"GRU_LAYER_SIZES\"][-1], self.n_nodes*self.n_pred)\n",
        "        torch.nn.init.xavier_uniform_(self.linear.weight)\n",
        "\n",
        "    def forward(self, data, device):\n",
        "        \"\"\"\n",
        "        Forward pass of the ST-GNN model\n",
        "        :param data Data to make a pass on\n",
        "        :param device Device to operate on\n",
        "        \"\"\"\n",
        "        x, edge_index = data.x, data.edge_index\n",
        "        if device == 'cpu':\n",
        "            x = torch.FloatTensor(x)\n",
        "        else:\n",
        "            x = torch.cuda.FloatTensor(x)\n",
        "\n",
        "        if config['USE_GAT']:\n",
        "            x = self.gat(x, edge_index)\n",
        "        else:\n",
        "            x = self.gcn(x, edge_index)\n",
        "        x = F.dropout(x, self.dropout, training=self.training)\n",
        "\n",
        "\n",
        "        batch_size = data.num_graphs\n",
        "        n_node = int(data.num_nodes/batch_size)\n",
        "        x = torch.reshape(x, (batch_size, n_node, data.num_features))\n",
        "        x = torch.movedim(x, 2, 0)\n",
        "        if config[\"USE_LSTM\"]:\n",
        "            for lstm in self.lstms:\n",
        "                x, _ = lstm(x)\n",
        "        else:\n",
        "            for gru in self.grus:\n",
        "                x, _ = gru(x)\n",
        "\n",
        "\n",
        "        x = torch.squeeze(x[-1, :, :])\n",
        "        x = self.linear(x)\n",
        "\n",
        "        s = x.shape\n",
        "        x = torch.reshape(x, (s[0], self.n_nodes, self.n_pred))\n",
        "        x = torch.reshape(x, (s[0]*self.n_nodes, self.n_pred))\n",
        "        return x"
      ]
    },
    {
      "cell_type": "code",
      "execution_count": null,
      "metadata": {
        "id": "XikFEW33JeLb"
      },
      "outputs": [],
      "source": [
        "@torch.no_grad()\n",
        "def eval(model, device, dataloader, type='', dim_vars=None, save_predictions=False):\n",
        "    model.eval()\n",
        "    model.to(device)\n",
        "\n",
        "    mae = 0\n",
        "    rmse = 0\n",
        "    mape = 0\n",
        "    n = 0\n",
        "\n",
        "    # Evaluate model on all data\n",
        "    for i, batch in enumerate(dataloader):\n",
        "        batch = batch.to(device)\n",
        "        if batch.x.shape[0] == 1:\n",
        "            pass\n",
        "        else:\n",
        "            with torch.no_grad():\n",
        "                pred = model(batch, device)\n",
        "            truth = batch.y.view(pred.shape)\n",
        "            if i == 0:\n",
        "                y_pred = torch.zeros(len(dataloader), pred.shape[0], pred.shape[1])\n",
        "                y_truth = torch.zeros(len(dataloader), pred.shape[0], pred.shape[1])\n",
        "            #truth = un_z_score(truth, dataloader.dataset.mean, dataloader.dataset.std_dev)\n",
        "            #pred = un_z_score(pred, dataloader.dataset.mean, dataloader.dataset.std_dev)\n",
        "            \n",
        "            # save y_prediction & true values for later analysis\n",
        "            if save_predictions:\n",
        "                modeling_utils.save_all_predictions(y_pred, y_truth, dim_vars, config['RESULTS_DIR'])\n",
        "\n",
        "            # reshape predictions\n",
        "            y_pred[i, :pred.shape[0], :] = pred\n",
        "            y_truth[i, :pred.shape[0], :] = truth\n",
        "\n",
        "            # calculate loss\n",
        "            rmse += modeling_utils.RMSE(truth, pred)\n",
        "            mae += modeling_utils.MAE(truth, pred)\n",
        "            mape += modeling_utils.MAPE(truth, pred)\n",
        "\n",
        "            n += 1\n",
        "    rmse, mae, mape = rmse / n, mae / n, mape / n\n",
        "\n",
        "    logging.info(f'{type}, MAE: {round(int(mae),2)}, RMSE: {round(int(rmse),2)}, MAPE: {round(int(mape),2)}')\n",
        "\n",
        "    #get the average score for each metric in each batch\n",
        "    return rmse, mae, mape, y_pred, y_truth\n",
        "\n",
        "\n",
        "def epoch_train(model, device, dataloader, optimizer, loss_fn, epoch):    \n",
        "    scheduler = StepLR(optimizer, step_size=30, gamma=0.1)\n",
        "\n",
        "    model.train()\n",
        "    for _, batch in enumerate(tqdm(dataloader, desc=f\"Epoch {epoch}\")):\n",
        "        batch = batch.to(device)\n",
        "        optimizer.zero_grad()\n",
        "        y_pred = torch.squeeze(model(batch, device))\n",
        "        loss = loss_fn()(y_pred.float(), torch.squeeze(batch.y).float())\n",
        "        if config[\"use_tensorboard\"]:\n",
        "            writer.add_scalar(\"Loss/train\", loss, epoch)\n",
        "        loss.backward()\n",
        "        optimizer.step()\n",
        "\n",
        "        # multiplicative decay\n",
        "        scheduler.step()\n",
        "\n",
        "    return loss"
      ]
    },
    {
      "cell_type": "markdown",
      "metadata": {
        "id": "IGNsWYRnJeLd"
      },
      "source": [
        "## Train the model"
      ]
    },
    {
      "cell_type": "code",
      "execution_count": null,
      "metadata": {
        "id": "-F3SQDz9JeLd"
      },
      "outputs": [],
      "source": [
        "def model_train(train_dataloader, val_dataloader, config, device, save_test_results = False, test_dataloader = None, dim_vars = None):\n",
        "    \"\"\"\n",
        "    Train the ST-GAT model. Evaluate on validation dataset as you go.\n",
        "    :param train_dataloader Data loader of training dataset\n",
        "    :param val_dataloader Dataloader of val dataset\n",
        "    :param config configuration to use\n",
        "    :param device Device to evaluate on\n",
        "    \"\"\"\n",
        "\n",
        "    # Make the model. Each datapoint in the graph is 228x12: N x F (N = # nodes, F = time window)\n",
        "    in_channels=config['F_IN']\n",
        "    if config[\"USE_HOLIDAY_FEATURES\"]: \n",
        "        in_channels += 7 * data_preparation.number_of_countries_in_holiday_dataset(config)\n",
        "    if config[\"USE_WEEKDAY_FEATURES\"]:\n",
        "        in_channels += 1\n",
        "    \n",
        "    model = ST_GNN(\n",
        "        in_channels=in_channels, \n",
        "        out_channels=config['F_OUT'], \n",
        "        n_nodes=config['N_NODE'], \n",
        "        heads=config['ATTENTION_HEADS'], \n",
        "        dropout=config['DROPOUT']\n",
        "    )\n",
        "    \n",
        "    logging.info(\"Model initialized\")\n",
        "    optimizer = optim.Adam(model.parameters(), lr=config['INITIAL_LR'], weight_decay=config['WEIGHT_DECAY'])\n",
        "    loss_fn = torch.nn.MSELoss\n",
        "    model.to(device)\n",
        "\n",
        "    # For every epoch, train the model on training dataset. Evaluate model on validation dataset\n",
        "    for epoch in range(config['EPOCHS']):\n",
        "        loss = epoch_train(model, device, train_dataloader, optimizer, loss_fn, epoch)\n",
        "        logging.info(f\"Loss: {loss:.3f}\")\n",
        "        if epoch % 5 == 0:\n",
        "            train_mae, train_rmse, train_mape, _, _ = eval(model, device, train_dataloader, 'Train')\n",
        "            val_mae, val_rmse, val_mape, _, _ = eval(model, device, val_dataloader, 'Valid')\n",
        "            if config[\"use_tensorboard\"]:\n",
        "                writer.add_scalar(f\"MAE/train\", train_mae, epoch)\n",
        "                writer.add_scalar(f\"RMSE/train\", train_rmse, epoch)\n",
        "                writer.add_scalar(f\"MAPE/train\", train_mape, epoch)\n",
        "                writer.add_scalar(f\"MAE/val\", val_mae, epoch)\n",
        "                writer.add_scalar(f\"RMSE/val\", val_rmse, epoch)\n",
        "                writer.add_scalar(f\"MAPE/val\", val_mape, epoch)\n",
        "    logging.info(\"All epochs done, finished training\")\n",
        "\n",
        "    if config[\"use_tensorboard\"]:\n",
        "        writer.flush()\n",
        "    # Save the model\n",
        "    os.mkdir(config[\"RESULTS_DIR\"])\n",
        "    torch.save({\n",
        "            \"epoch\": epoch,\n",
        "            \"model_state_dict\": model.state_dict(),\n",
        "            \"optimizer_state_dict\": optimizer.state_dict(),\n",
        "            \"loss\": loss},\n",
        "            os.path.join(config[\"RESULTS_DIR\"], \"model.pt\")\n",
        "    )\n",
        "    \n",
        "    with open(os.path.join(config[\"RESULTS_DIR\"], \"config.json\"), \"w\") as fp:\n",
        "        json.dump(config, fp)\n",
        "\n",
        "    if save_test_results:\n",
        "        test_mae, test_rmse, test_mape, _, _ = eval(model, device, test_dataloader, 'Test', dim_vars, save_predictions=True)\n",
        "        logging.info(f\"Test RMSE:{test_rmse}\")\n",
        "        results = {'MAE': test_mae.item(),\n",
        "                    'RMSE': test_rmse.item(),\n",
        "                    'MAPE': test_mape.item()}\n",
        "        with open(os.path.join(config[\"RESULTS_DIR\"], \"results.json\"), \"w\") as fp:\n",
        "            json.dump(results, fp)\n",
        "    return model"
      ]
    },
    {
      "cell_type": "markdown",
      "metadata": {
        "id": "JP3A3akKJeLf"
      },
      "source": [
        "### Start training"
      ]
    },
    {
      "cell_type": "code",
      "execution_count": null,
      "metadata": {
        "id": "eYwcGOI2JeLf"
      },
      "outputs": [],
      "source": [
        "#import importlib\n",
        "#importlib.reload(data_preparation)\n",
        "#importlib.reload(modeling_utils)"
      ]
    },
    {
      "cell_type": "code",
      "execution_count": null,
      "metadata": {
        "colab": {
          "base_uri": "https://localhost:8080/"
        },
        "id": "MIYqn84HJeLg",
        "outputId": "0610bc84-7840-48f8-eb65-f75be9d1cd16"
      },
      "outputs": [
        {
          "name": "stderr",
          "output_type": "stream",
          "text": [
            "INFO:root:Preparing data...\n",
            "INFO:root:Holiday features successfully prepared\n",
            "INFO:root:Historical counter data successfully read\n",
            "INFO:root:Edge index constructed\n",
            "INFO:root:Final dataset constructed\n",
            "INFO:root:Dataset splitted to train,val,test\n",
            "INFO:root:Dataset splitted to train,val,test\n"
          ]
        },
        {
          "name": "stdout",
          "output_type": "stream",
          "text": [
            "Size of train data: 240\n",
            "Size of validation data: 24\n",
            "Size of test data: 72\n",
            "Size of train data: 240\n",
            "Size of validation data: 24\n",
            "Size of test data: 72\n"
          ]
        }
      ],
      "source": [
        "# Make runs directory if it does not exist\n",
        "if not os.path.exists(config['RESULTS_DIR'].rsplit('/', 2)[0]):\n",
        "    os.mkdir(config['RESULTS_DIR'].rsplit('/', 2)[0])\n",
        "\n",
        "dataset, dim_vars = data_preparation.prepare_pyg_dataset(config)\n",
        "train_g, val_g, test_g, train_vars, val_vars, test_vars = data_preparation.split_dataset(dataset, config, dim_vars = dim_vars)\n",
        "\n",
        "# Split the Data instances in \n",
        "train_dataloader = DataLoader(train_g, batch_size=config['BATCH_SIZE'], shuffle=False)\n",
        "val_dataloader = DataLoader(val_g, batch_size=config['BATCH_SIZE'], shuffle=False)\n",
        "test_dataloader = DataLoader(test_g, batch_size=config['BATCH_SIZE'], shuffle=False)\n",
        "\n",
        "train_g, val_g, test_g, train_vars, val_vars, test_vars = data_preparation.split_dataset(dataset, config, dim_vars = dim_vars)\n",
        "\n",
        "# Split the Data instances in \n",
        "train_dataloader = DataLoader(train_g, batch_size=config['BATCH_SIZE'], shuffle=False)\n",
        "val_dataloader = DataLoader(val_g, batch_size=config['BATCH_SIZE'], shuffle=False)\n",
        "test_dataloader = DataLoader(test_g, batch_size=config['BATCH_SIZE'], shuffle=False)"
      ]
    },
    {
      "cell_type": "code",
      "execution_count": null,
      "metadata": {
        "colab": {
          "base_uri": "https://localhost:8080/",
          "height": 372
        },
        "id": "Id7THO6YJeLh",
        "outputId": "3ecc2e54-3f8d-4b8f-83b3-6d87e8f81356"
      },
      "outputs": [
        {
          "name": "stderr",
          "output_type": "stream",
          "text": [
            "INFO:root:Model initialized\n",
            "Epoch 0:   0%|          | 0/4 [00:00<?, ?it/s]\n"
          ]
        },
        {
          "ename": "RuntimeError",
          "evalue": "ignored",
          "output_type": "error",
          "traceback": [
            "\u001b[0;31m---------------------------------------------------------------------------\u001b[0m",
            "\u001b[0;31mRuntimeError\u001b[0m                              Traceback (most recent call last)",
            "\u001b[0;32m<ipython-input-27-30a2c96b3b99>\u001b[0m in \u001b[0;36m<module>\u001b[0;34m\u001b[0m\n\u001b[1;32m      1\u001b[0m \u001b[0;31m# Configure and train model\u001b[0m\u001b[0;34m\u001b[0m\u001b[0;34m\u001b[0m\u001b[0m\n\u001b[0;32m----> 2\u001b[0;31m \u001b[0mmodel\u001b[0m \u001b[0;34m=\u001b[0m \u001b[0mmodel_train\u001b[0m\u001b[0;34m(\u001b[0m\u001b[0mtrain_dataloader\u001b[0m\u001b[0;34m,\u001b[0m \u001b[0mval_dataloader\u001b[0m\u001b[0;34m,\u001b[0m \u001b[0mconfig\u001b[0m\u001b[0;34m,\u001b[0m \u001b[0mdevice\u001b[0m\u001b[0;34m,\u001b[0m \u001b[0;32mTrue\u001b[0m\u001b[0;34m,\u001b[0m \u001b[0mtest_dataloader\u001b[0m\u001b[0;34m,\u001b[0m \u001b[0mval_vars\u001b[0m\u001b[0;34m)\u001b[0m\u001b[0;34m\u001b[0m\u001b[0;34m\u001b[0m\u001b[0m\n\u001b[0m",
            "\u001b[0;32m<ipython-input-23-f9ffee4184e4>\u001b[0m in \u001b[0;36mmodel_train\u001b[0;34m(train_dataloader, val_dataloader, config, device, save_test_results, test_dataloader, dim_vars)\u001b[0m\n\u001b[1;32m     30\u001b[0m     \u001b[0;31m# For every epoch, train the model on training dataset. Evaluate model on validation dataset\u001b[0m\u001b[0;34m\u001b[0m\u001b[0;34m\u001b[0m\u001b[0m\n\u001b[1;32m     31\u001b[0m     \u001b[0;32mfor\u001b[0m \u001b[0mepoch\u001b[0m \u001b[0;32min\u001b[0m \u001b[0mrange\u001b[0m\u001b[0;34m(\u001b[0m\u001b[0mconfig\u001b[0m\u001b[0;34m[\u001b[0m\u001b[0;34m'EPOCHS'\u001b[0m\u001b[0;34m]\u001b[0m\u001b[0;34m)\u001b[0m\u001b[0;34m:\u001b[0m\u001b[0;34m\u001b[0m\u001b[0;34m\u001b[0m\u001b[0m\n\u001b[0;32m---> 32\u001b[0;31m         \u001b[0mloss\u001b[0m \u001b[0;34m=\u001b[0m \u001b[0mepoch_train\u001b[0m\u001b[0;34m(\u001b[0m\u001b[0mmodel\u001b[0m\u001b[0;34m,\u001b[0m \u001b[0mdevice\u001b[0m\u001b[0;34m,\u001b[0m \u001b[0mtrain_dataloader\u001b[0m\u001b[0;34m,\u001b[0m \u001b[0moptimizer\u001b[0m\u001b[0;34m,\u001b[0m \u001b[0mloss_fn\u001b[0m\u001b[0;34m,\u001b[0m \u001b[0mepoch\u001b[0m\u001b[0;34m)\u001b[0m\u001b[0;34m\u001b[0m\u001b[0;34m\u001b[0m\u001b[0m\n\u001b[0m\u001b[1;32m     33\u001b[0m         \u001b[0mlogging\u001b[0m\u001b[0;34m.\u001b[0m\u001b[0minfo\u001b[0m\u001b[0;34m(\u001b[0m\u001b[0;34mf\"Loss: {loss:.3f}\"\u001b[0m\u001b[0;34m)\u001b[0m\u001b[0;34m\u001b[0m\u001b[0;34m\u001b[0m\u001b[0m\n\u001b[1;32m     34\u001b[0m         \u001b[0;32mif\u001b[0m \u001b[0mepoch\u001b[0m \u001b[0;34m%\u001b[0m \u001b[0;36m5\u001b[0m \u001b[0;34m==\u001b[0m \u001b[0;36m0\u001b[0m\u001b[0;34m:\u001b[0m\u001b[0;34m\u001b[0m\u001b[0;34m\u001b[0m\u001b[0m\n",
            "\u001b[0;32m<ipython-input-22-ecaa4ae3e3ce>\u001b[0m in \u001b[0;36mepoch_train\u001b[0;34m(model, device, dataloader, optimizer, loss_fn, epoch)\u001b[0m\n\u001b[1;32m     53\u001b[0m         \u001b[0mbatch\u001b[0m \u001b[0;34m=\u001b[0m \u001b[0mbatch\u001b[0m\u001b[0;34m.\u001b[0m\u001b[0mto\u001b[0m\u001b[0;34m(\u001b[0m\u001b[0mdevice\u001b[0m\u001b[0;34m)\u001b[0m\u001b[0;34m\u001b[0m\u001b[0;34m\u001b[0m\u001b[0m\n\u001b[1;32m     54\u001b[0m         \u001b[0moptimizer\u001b[0m\u001b[0;34m.\u001b[0m\u001b[0mzero_grad\u001b[0m\u001b[0;34m(\u001b[0m\u001b[0;34m)\u001b[0m\u001b[0;34m\u001b[0m\u001b[0;34m\u001b[0m\u001b[0m\n\u001b[0;32m---> 55\u001b[0;31m         \u001b[0my_pred\u001b[0m \u001b[0;34m=\u001b[0m \u001b[0mtorch\u001b[0m\u001b[0;34m.\u001b[0m\u001b[0msqueeze\u001b[0m\u001b[0;34m(\u001b[0m\u001b[0mmodel\u001b[0m\u001b[0;34m(\u001b[0m\u001b[0mbatch\u001b[0m\u001b[0;34m,\u001b[0m \u001b[0mdevice\u001b[0m\u001b[0;34m)\u001b[0m\u001b[0;34m)\u001b[0m\u001b[0;34m\u001b[0m\u001b[0;34m\u001b[0m\u001b[0m\n\u001b[0m\u001b[1;32m     56\u001b[0m         \u001b[0mloss\u001b[0m \u001b[0;34m=\u001b[0m \u001b[0mloss_fn\u001b[0m\u001b[0;34m(\u001b[0m\u001b[0;34m)\u001b[0m\u001b[0;34m(\u001b[0m\u001b[0my_pred\u001b[0m\u001b[0;34m.\u001b[0m\u001b[0mfloat\u001b[0m\u001b[0;34m(\u001b[0m\u001b[0;34m)\u001b[0m\u001b[0;34m,\u001b[0m \u001b[0mtorch\u001b[0m\u001b[0;34m.\u001b[0m\u001b[0msqueeze\u001b[0m\u001b[0;34m(\u001b[0m\u001b[0mbatch\u001b[0m\u001b[0;34m.\u001b[0m\u001b[0my\u001b[0m\u001b[0;34m)\u001b[0m\u001b[0;34m.\u001b[0m\u001b[0mfloat\u001b[0m\u001b[0;34m(\u001b[0m\u001b[0;34m)\u001b[0m\u001b[0;34m)\u001b[0m\u001b[0;34m\u001b[0m\u001b[0;34m\u001b[0m\u001b[0m\n\u001b[1;32m     57\u001b[0m         \u001b[0;32mif\u001b[0m \u001b[0mconfig\u001b[0m\u001b[0;34m[\u001b[0m\u001b[0;34m\"use_tensorboard\"\u001b[0m\u001b[0;34m]\u001b[0m\u001b[0;34m:\u001b[0m\u001b[0;34m\u001b[0m\u001b[0;34m\u001b[0m\u001b[0m\n",
            "\u001b[0;32m/usr/local/lib/python3.9/dist-packages/torch/nn/modules/module.py\u001b[0m in \u001b[0;36m_call_impl\u001b[0;34m(self, *input, **kwargs)\u001b[0m\n\u001b[1;32m   1192\u001b[0m         if not (self._backward_hooks or self._forward_hooks or self._forward_pre_hooks or _global_backward_hooks\n\u001b[1;32m   1193\u001b[0m                 or _global_forward_hooks or _global_forward_pre_hooks):\n\u001b[0;32m-> 1194\u001b[0;31m             \u001b[0;32mreturn\u001b[0m \u001b[0mforward_call\u001b[0m\u001b[0;34m(\u001b[0m\u001b[0;34m*\u001b[0m\u001b[0minput\u001b[0m\u001b[0;34m,\u001b[0m \u001b[0;34m**\u001b[0m\u001b[0mkwargs\u001b[0m\u001b[0;34m)\u001b[0m\u001b[0;34m\u001b[0m\u001b[0;34m\u001b[0m\u001b[0m\n\u001b[0m\u001b[1;32m   1195\u001b[0m         \u001b[0;31m# Do not call functions when jit is used\u001b[0m\u001b[0;34m\u001b[0m\u001b[0;34m\u001b[0m\u001b[0m\n\u001b[1;32m   1196\u001b[0m         \u001b[0mfull_backward_hooks\u001b[0m\u001b[0;34m,\u001b[0m \u001b[0mnon_full_backward_hooks\u001b[0m \u001b[0;34m=\u001b[0m \u001b[0;34m[\u001b[0m\u001b[0;34m]\u001b[0m\u001b[0;34m,\u001b[0m \u001b[0;34m[\u001b[0m\u001b[0;34m]\u001b[0m\u001b[0;34m\u001b[0m\u001b[0;34m\u001b[0m\u001b[0m\n",
            "\u001b[0;32m<ipython-input-15-e123efd2b988>\u001b[0m in \u001b[0;36mforward\u001b[0;34m(self, data, device)\u001b[0m\n\u001b[1;32m     84\u001b[0m         \u001b[0;32mif\u001b[0m \u001b[0mconfig\u001b[0m\u001b[0;34m[\u001b[0m\u001b[0;34m\"USE_LSTM\"\u001b[0m\u001b[0;34m]\u001b[0m\u001b[0;34m:\u001b[0m\u001b[0;34m\u001b[0m\u001b[0;34m\u001b[0m\u001b[0m\n\u001b[1;32m     85\u001b[0m             \u001b[0;32mfor\u001b[0m \u001b[0mlstm\u001b[0m \u001b[0;32min\u001b[0m \u001b[0mself\u001b[0m\u001b[0;34m.\u001b[0m\u001b[0mlstms\u001b[0m\u001b[0;34m:\u001b[0m\u001b[0;34m\u001b[0m\u001b[0;34m\u001b[0m\u001b[0m\n\u001b[0;32m---> 86\u001b[0;31m                 \u001b[0mx\u001b[0m\u001b[0;34m,\u001b[0m \u001b[0m_\u001b[0m \u001b[0;34m=\u001b[0m \u001b[0mlstm\u001b[0m\u001b[0;34m(\u001b[0m\u001b[0mx\u001b[0m\u001b[0;34m)\u001b[0m\u001b[0;34m\u001b[0m\u001b[0;34m\u001b[0m\u001b[0m\n\u001b[0m\u001b[1;32m     87\u001b[0m         \u001b[0;32melse\u001b[0m\u001b[0;34m:\u001b[0m\u001b[0;34m\u001b[0m\u001b[0;34m\u001b[0m\u001b[0m\n\u001b[1;32m     88\u001b[0m             \u001b[0;32mfor\u001b[0m \u001b[0mgru\u001b[0m \u001b[0;32min\u001b[0m \u001b[0mself\u001b[0m\u001b[0;34m.\u001b[0m\u001b[0mgrus\u001b[0m\u001b[0;34m:\u001b[0m\u001b[0;34m\u001b[0m\u001b[0;34m\u001b[0m\u001b[0m\n",
            "\u001b[0;32m/usr/local/lib/python3.9/dist-packages/torch/nn/modules/module.py\u001b[0m in \u001b[0;36m_call_impl\u001b[0;34m(self, *input, **kwargs)\u001b[0m\n\u001b[1;32m   1192\u001b[0m         if not (self._backward_hooks or self._forward_hooks or self._forward_pre_hooks or _global_backward_hooks\n\u001b[1;32m   1193\u001b[0m                 or _global_forward_hooks or _global_forward_pre_hooks):\n\u001b[0;32m-> 1194\u001b[0;31m             \u001b[0;32mreturn\u001b[0m \u001b[0mforward_call\u001b[0m\u001b[0;34m(\u001b[0m\u001b[0;34m*\u001b[0m\u001b[0minput\u001b[0m\u001b[0;34m,\u001b[0m \u001b[0;34m**\u001b[0m\u001b[0mkwargs\u001b[0m\u001b[0;34m)\u001b[0m\u001b[0;34m\u001b[0m\u001b[0;34m\u001b[0m\u001b[0m\n\u001b[0m\u001b[1;32m   1195\u001b[0m         \u001b[0;31m# Do not call functions when jit is used\u001b[0m\u001b[0;34m\u001b[0m\u001b[0;34m\u001b[0m\u001b[0m\n\u001b[1;32m   1196\u001b[0m         \u001b[0mfull_backward_hooks\u001b[0m\u001b[0;34m,\u001b[0m \u001b[0mnon_full_backward_hooks\u001b[0m \u001b[0;34m=\u001b[0m \u001b[0;34m[\u001b[0m\u001b[0;34m]\u001b[0m\u001b[0;34m,\u001b[0m \u001b[0;34m[\u001b[0m\u001b[0;34m]\u001b[0m\u001b[0;34m\u001b[0m\u001b[0;34m\u001b[0m\u001b[0m\n",
            "\u001b[0;32m/usr/local/lib/python3.9/dist-packages/torch/nn/modules/rnn.py\u001b[0m in \u001b[0;36mforward\u001b[0;34m(self, input, hx)\u001b[0m\n\u001b[1;32m    772\u001b[0m         \u001b[0mself\u001b[0m\u001b[0;34m.\u001b[0m\u001b[0mcheck_forward_args\u001b[0m\u001b[0;34m(\u001b[0m\u001b[0minput\u001b[0m\u001b[0;34m,\u001b[0m \u001b[0mhx\u001b[0m\u001b[0;34m,\u001b[0m \u001b[0mbatch_sizes\u001b[0m\u001b[0;34m)\u001b[0m\u001b[0;34m\u001b[0m\u001b[0;34m\u001b[0m\u001b[0m\n\u001b[1;32m    773\u001b[0m         \u001b[0;32mif\u001b[0m \u001b[0mbatch_sizes\u001b[0m \u001b[0;32mis\u001b[0m \u001b[0;32mNone\u001b[0m\u001b[0;34m:\u001b[0m\u001b[0;34m\u001b[0m\u001b[0;34m\u001b[0m\u001b[0m\n\u001b[0;32m--> 774\u001b[0;31m             result = _VF.lstm(input, hx, self._flat_weights, self.bias, self.num_layers,\n\u001b[0m\u001b[1;32m    775\u001b[0m                               self.dropout, self.training, self.bidirectional, self.batch_first)\n\u001b[1;32m    776\u001b[0m         \u001b[0;32melse\u001b[0m\u001b[0;34m:\u001b[0m\u001b[0;34m\u001b[0m\u001b[0;34m\u001b[0m\u001b[0m\n",
            "\u001b[0;31mRuntimeError\u001b[0m: Input and parameter tensors are not at the same device, found input tensor at cuda:0 and parameter tensor at cpu"
          ]
        }
      ],
      "source": [
        "# Configure and train model\n",
        "model = model_train(train_dataloader, val_dataloader, config, device, True, test_dataloader, val_vars)"
      ]
    }
  ],
  "metadata": {
    "accelerator": "GPU",
    "colab": {
      "provenance": []
    },
    "gpuClass": "standard",
    "kernelspec": {
      "display_name": "trafficPrediction39MLG",
      "language": "python",
      "name": "python3"
    },
    "language_info": {
      "codemirror_mode": {
        "name": "ipython",
        "version": 3
      },
      "file_extension": ".py",
      "mimetype": "text/x-python",
      "name": "python",
      "nbconvert_exporter": "python",
      "pygments_lexer": "ipython3",
      "version": "3.10.9"
    },
    "orig_nbformat": 4,
    "vscode": {
      "interpreter": {
        "hash": "adf2a579d8120a92e1286b98590b288d376803eb678f940738ffad32bae242ec"
      }
    }
  },
  "nbformat": 4,
  "nbformat_minor": 0
}
