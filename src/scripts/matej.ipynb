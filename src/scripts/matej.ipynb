{
 "cells": [
  {
   "cell_type": "code",
   "execution_count": null,
   "metadata": {},
   "outputs": [],
   "source": []
  }
 ],
 "metadata": {
  "kernelspec": {
   "display_name": "trafficPrediction",
   "language": "python",
   "name": "python3"
  },
  "language_info": {
   "name": "python",
   "version": "3.11.2"
  },
  "orig_nbformat": 4,
  "vscode": {
   "interpreter": {
    "hash": "80e33802dac2f6de242757a3ef3c61c65fc3227f4b8415d8d5997905246d6366"
   }
  }
 },
 "nbformat": 4,
 "nbformat_minor": 2
}
