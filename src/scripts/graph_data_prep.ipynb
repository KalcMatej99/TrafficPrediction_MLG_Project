{
 "cells": [
  {
   "cell_type": "code",
   "execution_count": 6,
   "metadata": {},
   "outputs": [],
   "source": [
    "import pandas as pd\n",
    "import numpy as np\n",
    "import matplotlib.pyplot as plt\n",
    "import os\n",
    "import glob\n",
    "from tqdm import tqdm\n",
    "from pandas.tseries.offsets import DateOffset\n",
    "#from torch_geometric.data import Data\n",
    "\n",
    "#Lets start at src location\n",
    "if os.path.exists(\"./src\"):\n",
    "    os.chdir(\"./src\")\n",
    "\n",
    "\n",
    "config = {\n",
    "    \"counter_files_path\" : \"../data/counters_temporal_data_2023-03-03T09-24-06/\",\n",
    "    \"N_GRAPHS\"           : 30*24,\n",
    "    \"F_IN\"               : 7*24,\n",
    "    \"F_OUT\"              : 7*24,\n",
    "    \"target_col\"         : \"Sum\"\n",
    "}"
   ]
  },
  {
   "cell_type": "code",
   "execution_count": 7,
   "metadata": {},
   "outputs": [],
   "source": [
    "class TrafficDataset:\n",
    "    def __init__(self, config):\n",
    "        self.config = config\n",
    "        self.X = None\n",
    "        self.Y = None\n",
    "\n",
    "    def prepare_data(self):\n",
    "        #First prepare general matrix X for all counters\n",
    "        counters_df = pd.DataFrame()\n",
    "        for fname in glob.glob(self.config[\"counter_files_path\"] + \"*.csv\"):\n",
    "            counter_data = pd.read_csv(fname)\n",
    "            counter_data['Date'] = pd.to_datetime(counter_data['Date']) \n",
    "            counter_data.index = counter_data['Date']\n",
    "            counter_data = counter_data.sort_index(ascending=False)\n",
    "            # We don't need to work with all past data.\n",
    "            # Select enough data points to extract N_GRAPHS with F_IN and F_OUT timepoints\n",
    "            \n",
    "            counter_data = counter_data.iloc[0:(self.config[\"F_IN\"]+self.config[\"F_OUT\"]+self.config[\"N_GRAPHS\"]-1), :]\n",
    "            counter_id = fname.split('\\\\')[1].split('.csv')[0]\n",
    "\n",
    "            if counters_df.empty:\n",
    "                counters_df = pd.DataFrame(counter_data[self.config['target_col']])\n",
    "                counters_df.columns = [counter_id]\n",
    "            else:\n",
    "                columns = list(counters_df.columns) + [counter_id]\n",
    "                counters_df = pd.concat([counters_df, counter_data[self.config['target_col']]], axis=1)\n",
    "                counters_df.columns = columns \n",
    "\n",
    "        return counters_df\n",
    "\n",
    "            "
   ]
  },
  {
   "cell_type": "code",
   "execution_count": 8,
   "metadata": {},
   "outputs": [
    {
     "ename": "IndexError",
     "evalue": "list index out of range",
     "output_type": "error",
     "traceback": [
      "\u001b[0;31m---------------------------------------------------------------------------\u001b[0m",
      "\u001b[0;31mIndexError\u001b[0m                                Traceback (most recent call last)",
      "Cell \u001b[0;32mIn[8], line 2\u001b[0m\n\u001b[1;32m      1\u001b[0m td \u001b[39m=\u001b[39m TrafficDataset(config)\n\u001b[0;32m----> 2\u001b[0m df \u001b[39m=\u001b[39m td\u001b[39m.\u001b[39;49mprepare_data()\n",
      "Cell \u001b[0;32mIn[7], line 19\u001b[0m, in \u001b[0;36mTrafficDataset.prepare_data\u001b[0;34m(self)\u001b[0m\n\u001b[1;32m     15\u001b[0m \u001b[39m# We don't need to work with all past data.\u001b[39;00m\n\u001b[1;32m     16\u001b[0m \u001b[39m# Select enough data points to extract N_GRAPHS with F_IN and F_OUT timepoints\u001b[39;00m\n\u001b[1;32m     18\u001b[0m counter_data \u001b[39m=\u001b[39m counter_data\u001b[39m.\u001b[39miloc[\u001b[39m0\u001b[39m:(\u001b[39mself\u001b[39m\u001b[39m.\u001b[39mconfig[\u001b[39m\"\u001b[39m\u001b[39mF_IN\u001b[39m\u001b[39m\"\u001b[39m]\u001b[39m+\u001b[39m\u001b[39mself\u001b[39m\u001b[39m.\u001b[39mconfig[\u001b[39m\"\u001b[39m\u001b[39mF_OUT\u001b[39m\u001b[39m\"\u001b[39m]\u001b[39m+\u001b[39m\u001b[39mself\u001b[39m\u001b[39m.\u001b[39mconfig[\u001b[39m\"\u001b[39m\u001b[39mN_GRAPHS\u001b[39m\u001b[39m\"\u001b[39m]\u001b[39m-\u001b[39m\u001b[39m1\u001b[39m), :]\n\u001b[0;32m---> 19\u001b[0m counter_id \u001b[39m=\u001b[39m fname\u001b[39m.\u001b[39;49msplit(\u001b[39m'\u001b[39;49m\u001b[39m\\\\\u001b[39;49;00m\u001b[39m'\u001b[39;49m)[\u001b[39m1\u001b[39;49m]\u001b[39m.\u001b[39msplit(\u001b[39m'\u001b[39m\u001b[39m.csv\u001b[39m\u001b[39m'\u001b[39m)[\u001b[39m0\u001b[39m]\n\u001b[1;32m     21\u001b[0m \u001b[39mif\u001b[39;00m counters_df\u001b[39m.\u001b[39mempty:\n\u001b[1;32m     22\u001b[0m     counters_df \u001b[39m=\u001b[39m pd\u001b[39m.\u001b[39mDataFrame(counter_data[\u001b[39mself\u001b[39m\u001b[39m.\u001b[39mconfig[\u001b[39m'\u001b[39m\u001b[39mtarget_col\u001b[39m\u001b[39m'\u001b[39m]])\n",
      "\u001b[0;31mIndexError\u001b[0m: list index out of range"
     ]
    }
   ],
   "source": [
    "td = TrafficDataset(config)\n",
    "df = td.prepare_data()"
   ]
  },
  {
   "cell_type": "code",
   "execution_count": null,
   "metadata": {},
   "outputs": [
    {
     "data": {
      "text/html": [
       "<div>\n",
       "<style scoped>\n",
       "    .dataframe tbody tr th:only-of-type {\n",
       "        vertical-align: middle;\n",
       "    }\n",
       "\n",
       "    .dataframe tbody tr th {\n",
       "        vertical-align: top;\n",
       "    }\n",
       "\n",
       "    .dataframe thead th {\n",
       "        text-align: right;\n",
       "    }\n",
       "</style>\n",
       "<table border=\"1\" class=\"dataframe\">\n",
       "  <thead>\n",
       "    <tr style=\"text-align: right;\">\n",
       "      <th></th>\n",
       "    </tr>\n",
       "  </thead>\n",
       "  <tbody>\n",
       "  </tbody>\n",
       "</table>\n",
       "</div>"
      ],
      "text/plain": [
       "Empty DataFrame\n",
       "Columns: []\n",
       "Index: []"
      ]
     },
     "execution_count": 5,
     "metadata": {},
     "output_type": "execute_result"
    }
   ],
   "source": [
    "df"
   ]
  }
 ],
 "metadata": {
  "kernelspec": {
   "display_name": "trafficPredictionMLG",
   "language": "python",
   "name": "python3"
  },
  "language_info": {
   "codemirror_mode": {
    "name": "ipython",
    "version": 3
   },
   "file_extension": ".py",
   "mimetype": "text/x-python",
   "name": "python",
   "nbconvert_exporter": "python",
   "pygments_lexer": "ipython3",
   "version": "3.10.10"
  },
  "orig_nbformat": 4,
  "vscode": {
   "interpreter": {
    "hash": "c76cb6f348a3a61e9aa3816185ddfda9214895742ff1b93d93cc4d5b7a148520"
   }
  }
 },
 "nbformat": 4,
 "nbformat_minor": 2
}
